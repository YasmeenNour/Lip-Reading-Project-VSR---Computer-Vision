{
 "cells": [
  {
   "cell_type": "code",
   "execution_count": 1,
   "id": "c5ca683f",
   "metadata": {},
   "outputs": [],
   "source": [
    "import utils\n",
    "from utils import load_data, num_to_char ,load_video\n",
    "from modelutil import load_model\n",
    "import joblib\n",
    "import tensorflow as tf\n"
   ]
  },
  {
   "cell_type": "code",
   "execution_count": 2,
   "id": "2a2e55f1",
   "metadata": {},
   "outputs": [],
   "source": [
    "import dash\n",
    "from dash import dcc\n",
    "from dash import Dash, dcc, html\n",
    "from dash.dependencies import Input, Output, State\n",
    "from dash import dcc, html, dash_table\n",
    "from jupyter_dash import JupyterDash\n",
    "import pandas as pd\n",
    "import dash_bootstrap_components as dbc\n"
   ]
  },
  {
   "cell_type": "code",
   "execution_count": 3,
   "id": "157401fe",
   "metadata": {},
   "outputs": [],
   "source": [
    "\n",
    "import base64\n",
    "import datetime\n",
    "import io\n",
    "import dash_daq as daq"
   ]
  },
  {
   "cell_type": "code",
   "execution_count": 4,
   "id": "eed07bd5",
   "metadata": {},
   "outputs": [],
   "source": [
    "\n",
    "\n",
    "\n",
    "app = dash.Dash(__name__, external_stylesheets=[dbc.themes.LUMEN])\n",
    "\n",
    "\n",
    "\n",
    "drop_video=dcc.Upload(contents=\"\",filename=\"\",\n",
    "                                        id='upload-image',\n",
    "                                        children=html.Div([\n",
    "                                            'Drag and Drop or ',\n",
    "                                            html.A('Select Files')\n",
    "                                                        ]),\n",
    "                                                            style={\n",
    "                                                                'width': '50%',\n",
    "                                                                'height': '60px',\n",
    "                                                                'lineHeight': '60px',\n",
    "                                                                'borderWidth': '1px',\n",
    "                                                                'borderStyle': 'dashed',\n",
    "                                                                'borderRadius': '5px',\n",
    "                                                                'textAlign': 'center',\n",
    "                                                                'margin': '10px'\n",
    "                                                                },        # Allow multiple files to be uploaded\n",
    "                                                                multiple=False)\n",
    "\n",
    "\n",
    "video = dbc.Card(\n",
    "    dbc.CardBody([\n",
    "        \n",
    "    ],id=\"video_uploaded\"),\n",
    ")\n",
    "\n",
    "\n",
    "\n"
   ]
  },
  {
   "cell_type": "code",
   "execution_count": 5,
   "id": "5a1c6115",
   "metadata": {},
   "outputs": [],
   "source": [
    "# Define the callback for when a video is uploaded\n",
    "@app.callback(Output('video_uploaded', 'children'),\n",
    "              [Input('upload-image', 'contents')],\n",
    "              [State('upload-image', 'filename')])\n",
    "def update_video(contents, filename):\n",
    "    if contents is not None:\n",
    "        children = parse_contents(contents, filename)\n",
    "        return children\n",
    "    return \"\"\n",
    "    \n",
    "    \n",
    "\n",
    "def parse_contents(contents, filename):\n",
    "    return  [ html.Video(\n",
    "            id=\"video-player\",\n",
    "            controls=True,\n",
    "            src = contents,\n",
    "            style={\"width\": \"100%\"}\n",
    "        ), html.H2(str(filename),className=\"card-title\",style={'fontSize': 25, 'font-family':'Courier New, monospace','align':'center'}),\n",
    "        html.Button(\"read the lips\",id=\"predict_button\",className=\"btn btn-warning\",style={\"margin\":\"auto\"}),\n",
    "        html.Div(html.Label('Predicted answer.', id=\"show_answer\",style={'color': '#068DA9', 'borderWidth': '1px',\n",
    "                                                'borderStyle': 'dashed',\n",
    "                                                'borderRadius': '5px',\n",
    "                                                'textAlign': 'center','fontSize': 25, 'width': '90%',\n",
    "                                                'font-family':'Courier New, monospace','margin':'15px'}),id=\"model_output\")]\n"
   ]
  },
  {
   "cell_type": "code",
   "execution_count": 6,
   "id": "770aacc8",
   "metadata": {},
   "outputs": [],
   "source": [
    "#return generated text\n",
    "\n",
    "\n",
    "@app.callback(Output('show_answer', 'children'),\n",
    "              [Input('predict_button', 'n_clicks')],\n",
    "              [State('upload-image', 'contents')])\n",
    "def update_output(n_clicks, contents):\n",
    "    if n_clicks is not None:\n",
    "        # Decode the base64-encoded string to bytes\n",
    "        video_bytes = base64.b64decode(str(contents).split(',')[1])\n",
    "\n",
    "        # Write the bytes to a file\n",
    "        with open('video.mp4', 'wb') as f:\n",
    "            f.write(video_bytes)\n",
    "          \n",
    "        text = open_model(\"video.mp4\")\n",
    "\n",
    "    return text\n",
    "    \n",
    "\n",
    "#callback to display generated text has the model\n",
    "def open_model(path):\n",
    "    \n",
    "    video=load_video(path)\n",
    "    model = load_model()\n",
    "#     model = joblib.load(\"model_.joblib\")\n",
    "#     model = load_model('my_model.h5')\n",
    "    \n",
    "    output= model.predict(video.numpy().reshape(1 , 75 , 46 , 140 , 1 ))\n",
    "    \n",
    "    decoded = tf.keras.backend.ctc_decode(output, input_length=[75], greedy=True)[0][0].numpy()\n",
    "    \n",
    "    prediction = [tf.strings.reduce_join([num_to_char(word) for word in sentence]) for sentence in decoded]\n",
    "    \n",
    "    predictipn =prediction[0].numpy().decode('utf-8')\n",
    "    \n",
    "    return prediction[0].numpy().decode('utf-8')"
   ]
  },
  {
   "cell_type": "markdown",
   "id": "29f53d9c",
   "metadata": {},
   "source": [
    "### Main Layout"
   ]
  },
  {
   "cell_type": "code",
   "execution_count": 11,
   "id": "04dbeb60",
   "metadata": {},
   "outputs": [],
   "source": [
    "app.layout = dbc.Container([\n",
    "    dbc.Row([dbc.Col([\n",
    "        drop_video,html.P(\"Please make sure the video is mp4\",style={\"margin\":\"center\"})\n",
    "    ],width=6,align=\"center\")],className=\"six columns\",justify=\"center\"),\\\n",
    "\n",
    "    dbc.Row([\n",
    "        dbc.Col(video, width=6),\n",
    "        ],className=\"six columns\",justify=\"center\"),\n",
    "\n",
    "], fluid=True)\n",
    "\n"
   ]
  },
  {
   "cell_type": "code",
   "execution_count": null,
   "id": "88bdca13",
   "metadata": {},
   "outputs": [
    {
     "name": "stdout",
     "output_type": "stream",
     "text": [
      "Dash is running on http://127.0.0.1:8050/\n",
      "\n",
      " * Serving Flask app \"__main__\" (lazy loading)\n",
      " * Environment: production\n",
      "\u001b[31m   WARNING: This is a development server. Do not use it in a production deployment.\u001b[0m\n",
      "\u001b[2m   Use a production WSGI server instead.\u001b[0m\n",
      " * Debug mode: off\n"
     ]
    },
    {
     "name": "stderr",
     "output_type": "stream",
     "text": [
      " * Running on http://127.0.0.1:8050/ (Press CTRL+C to quit)\n",
      "127.0.0.1 - - [05/Jun/2023 20:01:07] \"GET / HTTP/1.1\" 200 -\n",
      "127.0.0.1 - - [05/Jun/2023 20:01:08] \"GET /_dash-layout HTTP/1.1\" 200 -\n",
      "127.0.0.1 - - [05/Jun/2023 20:01:08] \"GET /_dash-dependencies HTTP/1.1\" 200 -\n",
      "127.0.0.1 - - [05/Jun/2023 20:01:08] \"GET /_dash-component-suites/dash/dcc/async-upload.js HTTP/1.1\" 200 -\n",
      "127.0.0.1 - - [05/Jun/2023 20:01:08] \"POST /_dash-update-component HTTP/1.1\" 200 -\n",
      "[2023-06-05 20:01:08,845] ERROR in app: Exception on /_dash-update-component [POST]\n",
      "Traceback (most recent call last):\n",
      "  File \"C:\\Users\\Yasmeen Nour\\anaconda3\\lib\\site-packages\\flask\\app.py\", line 2447, in wsgi_app\n",
      "    response = self.full_dispatch_request()\n",
      "  File \"C:\\Users\\Yasmeen Nour\\anaconda3\\lib\\site-packages\\flask\\app.py\", line 1952, in full_dispatch_request\n",
      "    rv = self.handle_user_exception(e)\n",
      "  File \"C:\\Users\\Yasmeen Nour\\anaconda3\\lib\\site-packages\\flask\\app.py\", line 1821, in handle_user_exception\n",
      "    reraise(exc_type, exc_value, tb)\n",
      "  File \"C:\\Users\\Yasmeen Nour\\anaconda3\\lib\\site-packages\\flask\\_compat.py\", line 39, in reraise\n",
      "    raise value\n",
      "  File \"C:\\Users\\Yasmeen Nour\\anaconda3\\lib\\site-packages\\flask\\app.py\", line 1950, in full_dispatch_request\n",
      "    rv = self.dispatch_request()\n",
      "  File \"C:\\Users\\Yasmeen Nour\\anaconda3\\lib\\site-packages\\flask\\app.py\", line 1936, in dispatch_request\n",
      "    return self.view_functions[rule.endpoint](**req.view_args)\n",
      "  File \"C:\\Users\\Yasmeen Nour\\anaconda3\\lib\\site-packages\\dash\\dash.py\", line 1283, in dispatch\n",
      "    ctx.run(\n",
      "  File \"C:\\Users\\Yasmeen Nour\\anaconda3\\lib\\site-packages\\dash\\_callback.py\", line 450, in add_context\n",
      "    output_value = func(*func_args, **func_kwargs)  # %% callback invoked %%\n",
      "  File \"C:\\Users\\Yasmeen Nour\\AppData\\Local\\Temp\\ipykernel_18172\\3425292570.py\", line 18, in update_output\n",
      "    return text\n",
      "UnboundLocalError: local variable 'text' referenced before assignment\n",
      "127.0.0.1 - - [05/Jun/2023 20:01:08] \"POST /_dash-update-component HTTP/1.1\" 500 -\n",
      "127.0.0.1 - - [05/Jun/2023 20:01:08] \"GET /_favicon.ico?v=2.9.2 HTTP/1.1\" 200 -\n",
      "127.0.0.1 - - [05/Jun/2023 20:01:30] \"POST /_dash-update-component HTTP/1.1\" 200 -\n",
      "[2023-06-05 20:01:30,782] ERROR in app: Exception on /_dash-update-component [POST]\n",
      "Traceback (most recent call last):\n",
      "  File \"C:\\Users\\Yasmeen Nour\\anaconda3\\lib\\site-packages\\flask\\app.py\", line 2447, in wsgi_app\n",
      "    response = self.full_dispatch_request()\n",
      "  File \"C:\\Users\\Yasmeen Nour\\anaconda3\\lib\\site-packages\\flask\\app.py\", line 1952, in full_dispatch_request\n",
      "    rv = self.handle_user_exception(e)\n",
      "  File \"C:\\Users\\Yasmeen Nour\\anaconda3\\lib\\site-packages\\flask\\app.py\", line 1821, in handle_user_exception\n",
      "    reraise(exc_type, exc_value, tb)\n",
      "  File \"C:\\Users\\Yasmeen Nour\\anaconda3\\lib\\site-packages\\flask\\_compat.py\", line 39, in reraise\n",
      "    raise value\n",
      "  File \"C:\\Users\\Yasmeen Nour\\anaconda3\\lib\\site-packages\\flask\\app.py\", line 1950, in full_dispatch_request\n",
      "    rv = self.dispatch_request()\n",
      "  File \"C:\\Users\\Yasmeen Nour\\anaconda3\\lib\\site-packages\\flask\\app.py\", line 1936, in dispatch_request\n",
      "    return self.view_functions[rule.endpoint](**req.view_args)\n",
      "  File \"C:\\Users\\Yasmeen Nour\\anaconda3\\lib\\site-packages\\dash\\dash.py\", line 1283, in dispatch\n",
      "    ctx.run(\n",
      "  File \"C:\\Users\\Yasmeen Nour\\anaconda3\\lib\\site-packages\\dash\\_callback.py\", line 450, in add_context\n",
      "    output_value = func(*func_args, **func_kwargs)  # %% callback invoked %%\n",
      "  File \"C:\\Users\\Yasmeen Nour\\AppData\\Local\\Temp\\ipykernel_18172\\3425292570.py\", line 18, in update_output\n",
      "    return text\n",
      "UnboundLocalError: local variable 'text' referenced before assignment\n",
      "127.0.0.1 - - [05/Jun/2023 20:01:30] \"POST /_dash-update-component HTTP/1.1\" 500 -\n"
     ]
    },
    {
     "name": "stdout",
     "output_type": "stream",
     "text": [
      "1/1 [==============================] - 6s 6s/step\n"
     ]
    },
    {
     "name": "stderr",
     "output_type": "stream",
     "text": [
      "127.0.0.1 - - [05/Jun/2023 20:01:56] \"POST /_dash-update-component HTTP/1.1\" 200 -\n"
     ]
    }
   ],
   "source": [
    "if __name__ == '__main__':\n",
    "    app.run_server(debug=False,port=8050)"
   ]
  },
  {
   "cell_type": "code",
   "execution_count": null,
   "id": "1440e897",
   "metadata": {},
   "outputs": [],
   "source": []
  }
 ],
 "metadata": {
  "kernelspec": {
   "display_name": "Python 3 (ipykernel)",
   "language": "python",
   "name": "python3"
  },
  "language_info": {
   "codemirror_mode": {
    "name": "ipython",
    "version": 3
   },
   "file_extension": ".py",
   "mimetype": "text/x-python",
   "name": "python",
   "nbconvert_exporter": "python",
   "pygments_lexer": "ipython3",
   "version": "3.9.7"
  }
 },
 "nbformat": 4,
 "nbformat_minor": 5
}
