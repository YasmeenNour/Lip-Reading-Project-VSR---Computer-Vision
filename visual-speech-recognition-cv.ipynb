{
 "cells": [
  {
   "cell_type": "markdown",
   "id": "ecc69ad2",
   "metadata": {
    "id": "a3573a47-3689-4668-b62f-5c8451b2b4e9",
    "tags": []
   },
   "source": [
    "# 0. Install and Import Dependencies"
   ]
  },
  {
   "cell_type": "code",
   "execution_count": 34,
   "id": "23cd51ee",
   "metadata": {
    "execution": {
     "iopub.execute_input": "2023-06-04T18:00:01.886308Z",
     "iopub.status.busy": "2023-06-04T18:00:01.885910Z",
     "iopub.status.idle": "2023-06-04T18:00:01.891847Z",
     "shell.execute_reply": "2023-06-04T18:00:01.890436Z",
     "shell.execute_reply.started": "2023-06-04T18:00:01.886277Z"
    },
    "id": "ddfbccbe-41ae-4c23-98b1-a13868e2b499",
    "scrolled": true,
    "tags": []
   },
   "outputs": [],
   "source": [
    "# !pip list"
   ]
  },
  {
   "cell_type": "code",
   "execution_count": 35,
   "id": "1c8bed21",
   "metadata": {
    "execution": {
     "iopub.execute_input": "2023-06-04T18:00:02.086220Z",
     "iopub.status.busy": "2023-06-04T18:00:02.085851Z",
     "iopub.status.idle": "2023-06-04T18:00:02.090424Z",
     "shell.execute_reply": "2023-06-04T18:00:02.089263Z",
     "shell.execute_reply.started": "2023-06-04T18:00:02.086192Z"
    },
    "id": "02f907ea-f669-46c7-adcf-7f257e663448",
    "tags": []
   },
   "outputs": [],
   "source": [
    "# !pip install opencv-python matplotlib imageio gdown tensorflow"
   ]
  },
  {
   "cell_type": "code",
   "execution_count": 36,
   "id": "b001e4ef",
   "metadata": {
    "execution": {
     "iopub.execute_input": "2023-06-04T18:00:02.146636Z",
     "iopub.status.busy": "2023-06-04T18:00:02.145858Z",
     "iopub.status.idle": "2023-06-04T18:00:02.153790Z",
     "shell.execute_reply": "2023-06-04T18:00:02.151135Z",
     "shell.execute_reply.started": "2023-06-04T18:00:02.146601Z"
    },
    "id": "b24af50c-20b8-409d-ad78-30a933fdd669",
    "tags": []
   },
   "outputs": [],
   "source": [
    "import os\n",
    "import cv2\n",
    "import tensorflow as tf\n",
    "import numpy as np\n",
    "from typing import List\n",
    "from matplotlib import pyplot as plt\n",
    "import imageio"
   ]
  },
  {
   "cell_type": "code",
   "execution_count": 37,
   "id": "3977ac67",
   "metadata": {
    "colab": {
     "base_uri": "https://localhost:8080/"
    },
    "execution": {
     "iopub.execute_input": "2023-06-04T18:00:02.713127Z",
     "iopub.status.busy": "2023-06-04T18:00:02.712757Z",
     "iopub.status.idle": "2023-06-04T18:00:02.721438Z",
     "shell.execute_reply": "2023-06-04T18:00:02.720265Z",
     "shell.execute_reply.started": "2023-06-04T18:00:02.713098Z"
    },
    "id": "1e3db0b0-e559-4ad6-91fd-e7414b7d75e6",
    "outputId": "080fe946-efd9-4e96-8c6e-cd62eff5bff3"
   },
   "outputs": [
    {
     "data": {
      "text/plain": [
       "[PhysicalDevice(name='/physical_device:GPU:0', device_type='GPU'),\n",
       " PhysicalDevice(name='/physical_device:GPU:1', device_type='GPU')]"
      ]
     },
     "execution_count": 37,
     "metadata": {},
     "output_type": "execute_result"
    }
   ],
   "source": [
    "tf.config.list_physical_devices('GPU')"
   ]
  },
  {
   "cell_type": "code",
   "execution_count": 38,
   "id": "6d1f305f",
   "metadata": {
    "execution": {
     "iopub.execute_input": "2023-06-04T18:00:02.938661Z",
     "iopub.status.busy": "2023-06-04T18:00:02.938300Z",
     "iopub.status.idle": "2023-06-04T18:00:02.944053Z",
     "shell.execute_reply": "2023-06-04T18:00:02.942855Z",
     "shell.execute_reply.started": "2023-06-04T18:00:02.938632Z"
    },
    "id": "378d045a-3003-4f93-b7d2-a25a97774a68",
    "tags": []
   },
   "outputs": [],
   "source": [
    "physical_devices = tf.config.list_physical_devices('GPU')\n",
    "try:\n",
    "    tf.config.experimental.set_memory_growth(physical_devices[0], True)\n",
    "except:\n",
    "    pass"
   ]
  },
  {
   "cell_type": "markdown",
   "id": "b183f208",
   "metadata": {
    "id": "7a19e88e-c7b9-45c1-ae1e-f2109329c71b",
    "tags": []
   },
   "source": [
    "# 1. Build Data Loading Functions"
   ]
  },
  {
   "cell_type": "code",
   "execution_count": 39,
   "id": "87678cd8",
   "metadata": {
    "execution": {
     "iopub.execute_input": "2023-06-04T18:00:03.208289Z",
     "iopub.status.busy": "2023-06-04T18:00:03.207905Z",
     "iopub.status.idle": "2023-06-04T18:00:03.213079Z",
     "shell.execute_reply": "2023-06-04T18:00:03.212070Z",
     "shell.execute_reply.started": "2023-06-04T18:00:03.208254Z"
    },
    "id": "zN9RTUNdp45-"
   },
   "outputs": [],
   "source": [
    "# from google.colab import drive\n",
    "import zipfile\n",
    "import numpy as np\n",
    "import pandas as pd"
   ]
  },
  {
   "cell_type": "code",
   "execution_count": 40,
   "id": "72d1089e",
   "metadata": {
    "colab": {
     "base_uri": "https://localhost:8080/",
     "height": 423
    },
    "execution": {
     "iopub.execute_input": "2023-06-04T18:00:03.360780Z",
     "iopub.status.busy": "2023-06-04T18:00:03.360249Z",
     "iopub.status.idle": "2023-06-04T18:00:03.373863Z",
     "shell.execute_reply": "2023-06-04T18:00:03.372770Z",
     "shell.execute_reply.started": "2023-06-04T18:00:03.360744Z"
    },
    "id": "RdK220JwnoLq",
    "outputId": "dd9a0646-a700-4e5c-cd5e-3fb5ab93a6cc"
   },
   "outputs": [],
   "source": [
    "alignment_path = 'data/alignments/s1'\n",
    "S1_path = 'data/s1'\n",
    "\n",
    "# Get a list of the files in each folder\n",
    "alignment_files = sorted(os.listdir(alignment_path))\n",
    "video_files = sorted(os.listdir(S1_path))\n",
    "video_files.remove('Thumbs.db')\n",
    "length=len(alignment_files)\n",
    "data={\"video\":[],\"alignment\":[]}\n",
    "for i in range(length):\n",
    "    data[\"video\"].append(video_files[i])\n",
    "    data[\"alignment\"].append(alignment_files[i])\n",
    "df=pd.DataFrame(data)\n",
    "df=df[df[\"video\"]!=\"sgib8n.mpg\"] #remove videos with damaged frames \n",
    "df=df.sample(frac=1).reset_index(drop=True)\n",
    "mini_data=df.loc[:500]"
   ]
  },
  {
   "cell_type": "code",
   "execution_count": 41,
   "id": "26eb7011",
   "metadata": {
    "execution": {
     "iopub.execute_input": "2023-06-04T18:00:03.572796Z",
     "iopub.status.busy": "2023-06-04T18:00:03.572490Z",
     "iopub.status.idle": "2023-06-04T18:00:03.585707Z",
     "shell.execute_reply": "2023-06-04T18:00:03.584183Z",
     "shell.execute_reply.started": "2023-06-04T18:00:03.572769Z"
    }
   },
   "outputs": [
    {
     "data": {
      "text/html": [
       "<div>\n",
       "<style scoped>\n",
       "    .dataframe tbody tr th:only-of-type {\n",
       "        vertical-align: middle;\n",
       "    }\n",
       "\n",
       "    .dataframe tbody tr th {\n",
       "        vertical-align: top;\n",
       "    }\n",
       "\n",
       "    .dataframe thead th {\n",
       "        text-align: right;\n",
       "    }\n",
       "</style>\n",
       "<table border=\"1\" class=\"dataframe\">\n",
       "  <thead>\n",
       "    <tr style=\"text-align: right;\">\n",
       "      <th></th>\n",
       "      <th>video</th>\n",
       "      <th>alignment</th>\n",
       "    </tr>\n",
       "  </thead>\n",
       "  <tbody>\n",
       "    <tr>\n",
       "      <th>0</th>\n",
       "      <td>bris4p.mpg</td>\n",
       "      <td>bris4p.align</td>\n",
       "    </tr>\n",
       "    <tr>\n",
       "      <th>1</th>\n",
       "      <td>sgwj7a.mpg</td>\n",
       "      <td>sgwj7a.align</td>\n",
       "    </tr>\n",
       "    <tr>\n",
       "      <th>2</th>\n",
       "      <td>brwt7a.mpg</td>\n",
       "      <td>brwt7a.align</td>\n",
       "    </tr>\n",
       "    <tr>\n",
       "      <th>3</th>\n",
       "      <td>lrik2n.mpg</td>\n",
       "      <td>lrik2n.align</td>\n",
       "    </tr>\n",
       "    <tr>\n",
       "      <th>4</th>\n",
       "      <td>prwk1a.mpg</td>\n",
       "      <td>prwk1a.align</td>\n",
       "    </tr>\n",
       "    <tr>\n",
       "      <th>...</th>\n",
       "      <td>...</td>\n",
       "      <td>...</td>\n",
       "    </tr>\n",
       "    <tr>\n",
       "      <th>496</th>\n",
       "      <td>swih8p.mpg</td>\n",
       "      <td>swih8p.align</td>\n",
       "    </tr>\n",
       "    <tr>\n",
       "      <th>497</th>\n",
       "      <td>pbbj1a.mpg</td>\n",
       "      <td>pbbj1a.align</td>\n",
       "    </tr>\n",
       "    <tr>\n",
       "      <th>498</th>\n",
       "      <td>prbx3s.mpg</td>\n",
       "      <td>prbx3s.align</td>\n",
       "    </tr>\n",
       "    <tr>\n",
       "      <th>499</th>\n",
       "      <td>bbil5a.mpg</td>\n",
       "      <td>bbil5a.align</td>\n",
       "    </tr>\n",
       "    <tr>\n",
       "      <th>500</th>\n",
       "      <td>pwax4n.mpg</td>\n",
       "      <td>pwax4n.align</td>\n",
       "    </tr>\n",
       "  </tbody>\n",
       "</table>\n",
       "<p>501 rows × 2 columns</p>\n",
       "</div>"
      ],
      "text/plain": [
       "          video     alignment\n",
       "0    bris4p.mpg  bris4p.align\n",
       "1    sgwj7a.mpg  sgwj7a.align\n",
       "2    brwt7a.mpg  brwt7a.align\n",
       "3    lrik2n.mpg  lrik2n.align\n",
       "4    prwk1a.mpg  prwk1a.align\n",
       "..          ...           ...\n",
       "496  swih8p.mpg  swih8p.align\n",
       "497  pbbj1a.mpg  pbbj1a.align\n",
       "498  prbx3s.mpg  prbx3s.align\n",
       "499  bbil5a.mpg  bbil5a.align\n",
       "500  pwax4n.mpg  pwax4n.align\n",
       "\n",
       "[501 rows x 2 columns]"
      ]
     },
     "execution_count": 41,
     "metadata": {},
     "output_type": "execute_result"
    }
   ],
   "source": [
    "mini_data"
   ]
  },
  {
   "cell_type": "code",
   "execution_count": 42,
   "id": "6a009de8",
   "metadata": {
    "execution": {
     "iopub.execute_input": "2023-06-04T18:00:04.116636Z",
     "iopub.status.busy": "2023-06-04T18:00:04.114501Z",
     "iopub.status.idle": "2023-06-04T18:00:04.124028Z",
     "shell.execute_reply": "2023-06-04T18:00:04.123080Z",
     "shell.execute_reply.started": "2023-06-04T18:00:04.116592Z"
    },
    "id": "73356f02"
   },
   "outputs": [],
   "source": [
    "def draw_boundaries(img, classifier, scaleFactor, minNeighbors, color, text):\n",
    "    # Converting image to gray-scale\n",
    "    gray_img = cv2.cvtColor(img, cv2.COLOR_BGR2GRAY)\n",
    "    # detecting features in gray-scale image, returns coordinates, width and height of features\n",
    "    features = classifier.detectMultiScale(gray_img, scaleFactor, minNeighbors)\n",
    "    coords = []\n",
    "    # drawing rectangle around the feature and labeling it\n",
    "    for (x, y, w, h) in features:\n",
    "        cv2.rectangle(img, (x,y), (x+w, y+h), color, 2)\n",
    "        cv2.putText(img, text, (x, y-4), cv2.FONT_HERSHEY_SIMPLEX, 0.8, color, 1, cv2.LINE_AA)\n",
    "        coords = [x, y, w, h]\n",
    "    return coords"
   ]
  },
  {
   "cell_type": "code",
   "execution_count": 43,
   "id": "e9e42cb8",
   "metadata": {
    "execution": {
     "iopub.execute_input": "2023-06-04T18:00:04.408737Z",
     "iopub.status.busy": "2023-06-04T18:00:04.407702Z",
     "iopub.status.idle": "2023-06-04T18:00:04.416266Z",
     "shell.execute_reply": "2023-06-04T18:00:04.415406Z",
     "shell.execute_reply.started": "2023-06-04T18:00:04.408697Z"
    },
    "id": "0bcb2da8"
   },
   "outputs": [],
   "source": [
    "def detect(img, faceCascade,mouthCascade):\n",
    "    color = {\"blue\":(255,0,0), \"red\":(0,0,255), \"green\":(0,255,0), \"white\":(255,255,255)}\n",
    "    coords = draw_boundaries(img, faceCascade, 1.1, 10, color['green'], \"face\")\n",
    "    #to detect the mouth inside the ROI area we put it here instead of under the \"if\" condition\n",
    "    # If feature is detected, the draw_boundary method will return the x,y coordinates and width and height of rectangle else the length of coords will be 0\n",
    "    if len(coords)==4:\n",
    "\n",
    "                # Updating region of interest by cropping image lower half of the face\n",
    "        ROI = img[int(coords[1] + coords[3] * 0.6):int(coords[1] + coords[3] * 0.9), int(coords[0]):int(coords[0] +coords[2])]\n",
    "\n",
    "\n",
    "        return ROI  #return lower half of the face\n",
    "\n",
    "    return img"
   ]
  },
  {
   "cell_type": "code",
   "execution_count": 44,
   "id": "d554a254",
   "metadata": {
    "execution": {
     "iopub.execute_input": "2023-06-04T18:00:04.799167Z",
     "iopub.status.busy": "2023-06-04T18:00:04.798772Z",
     "iopub.status.idle": "2023-06-04T18:00:04.807972Z",
     "shell.execute_reply": "2023-06-04T18:00:04.806732Z",
     "shell.execute_reply.started": "2023-06-04T18:00:04.799135Z"
    },
    "id": "8548cc59-6dfc-4acc-abc3-3e65212db02e",
    "tags": []
   },
   "outputs": [],
   "source": [
    "def load_video(path:str) -> List[float]: \n",
    "    faceCascade = cv2.CascadeClassifier(cv2.data.haarcascades+'haarcascade_frontalface_default.xml')\n",
    "    mouthCascade = cv2.CascadeClassifier('Mouth.xml') \n",
    "    \n",
    "    cap = cv2.VideoCapture(path)\n",
    "    frames = []\n",
    "\n",
    "    for _ in range(int(cap.get(cv2.CAP_PROP_FRAME_COUNT))): \n",
    "        ret, frame = cap.read()\n",
    "        if not ret:\n",
    "            break\n",
    "\n",
    "        mouth = detect(frame, faceCascade,mouthCascade)\n",
    "        mouth_size=(140,40)\n",
    "        img=cv2.resize(mouth, mouth_size)\n",
    "\n",
    "        frame = tf.image.rgb_to_grayscale(img)\n",
    "        \n",
    "\n",
    "        frames.append(frame)\n",
    "        \n",
    "    cap.release()\n",
    "    \n",
    "    mean = tf.math.reduce_mean(frames)\n",
    "    std = tf.math.reduce_std(tf.cast(frames, tf.float32))\n",
    "    return tf.cast((frames - mean), tf.float32) / std"
   ]
  },
  {
   "cell_type": "code",
   "execution_count": 45,
   "id": "8565ac6f",
   "metadata": {
    "execution": {
     "iopub.execute_input": "2023-06-04T18:00:05.142347Z",
     "iopub.status.busy": "2023-06-04T18:00:05.141696Z",
     "iopub.status.idle": "2023-06-04T18:00:05.146885Z",
     "shell.execute_reply": "2023-06-04T18:00:05.146023Z",
     "shell.execute_reply.started": "2023-06-04T18:00:05.142291Z"
    },
    "id": "ec735e0b-ec98-4eb0-8f49-c35527d6670a",
    "tags": []
   },
   "outputs": [],
   "source": [
    "vocab = [x for x in \"abcdefghijklmnopqrstuvwxyz'?!123456789 \"]"
   ]
  },
  {
   "cell_type": "code",
   "execution_count": 46,
   "id": "f14db505",
   "metadata": {
    "colab": {
     "base_uri": "https://localhost:8080/"
    },
    "execution": {
     "iopub.execute_input": "2023-06-04T18:00:05.379516Z",
     "iopub.status.busy": "2023-06-04T18:00:05.378656Z",
     "iopub.status.idle": "2023-06-04T18:00:05.401745Z",
     "shell.execute_reply": "2023-06-04T18:00:05.400906Z",
     "shell.execute_reply.started": "2023-06-04T18:00:05.379476Z"
    },
    "id": "be04e972-d7a5-4a72-82d8-a6bdde1f3ce6",
    "outputId": "746d9d0a-a4b6-45f1-857a-8bf513ef5232",
    "tags": []
   },
   "outputs": [
    {
     "name": "stdout",
     "output_type": "stream",
     "text": [
      "The vocabulary is: ['', 'a', 'b', 'c', 'd', 'e', 'f', 'g', 'h', 'i', 'j', 'k', 'l', 'm', 'n', 'o', 'p', 'q', 'r', 's', 't', 'u', 'v', 'w', 'x', 'y', 'z', \"'\", '?', '!', '1', '2', '3', '4', '5', '6', '7', '8', '9', ' '] (size =40)\n"
     ]
    }
   ],
   "source": [
    "char_to_num = tf.keras.layers.StringLookup(vocabulary=vocab, oov_token=\"\")\n",
    "num_to_char = tf.keras.layers.StringLookup(\n",
    "    vocabulary=char_to_num.get_vocabulary(), oov_token=\"\", invert=True\n",
    ")\n",
    "\n",
    "print(\n",
    "    f\"The vocabulary is: {char_to_num.get_vocabulary()} \"\n",
    "    f\"(size ={char_to_num.vocabulary_size()})\"\n",
    ")"
   ]
  },
  {
   "cell_type": "code",
   "execution_count": 47,
   "id": "6744f27c",
   "metadata": {
    "colab": {
     "base_uri": "https://localhost:8080/"
    },
    "execution": {
     "iopub.execute_input": "2023-06-04T18:00:15.322435Z",
     "iopub.status.busy": "2023-06-04T18:00:15.322057Z",
     "iopub.status.idle": "2023-06-04T18:00:15.331171Z",
     "shell.execute_reply": "2023-06-04T18:00:15.329902Z",
     "shell.execute_reply.started": "2023-06-04T18:00:15.322402Z"
    },
    "id": "559f7420-6802-45fa-9ca0-b1ff209b461c",
    "outputId": "7326709f-c744-46dc-8674-9c0885baf706",
    "tags": []
   },
   "outputs": [
    {
     "data": {
      "text/plain": [
       "40"
      ]
     },
     "execution_count": 47,
     "metadata": {},
     "output_type": "execute_result"
    }
   ],
   "source": [
    "len(char_to_num.get_vocabulary())"
   ]
  },
  {
   "cell_type": "code",
   "execution_count": 48,
   "id": "5019cb74",
   "metadata": {
    "colab": {
     "base_uri": "https://localhost:8080/"
    },
    "execution": {
     "iopub.execute_input": "2023-06-04T18:00:15.853535Z",
     "iopub.status.busy": "2023-06-04T18:00:15.853170Z",
     "iopub.status.idle": "2023-06-04T18:00:15.864820Z",
     "shell.execute_reply": "2023-06-04T18:00:15.863872Z",
     "shell.execute_reply.started": "2023-06-04T18:00:15.853505Z"
    },
    "id": "797ff78b-b48f-4e14-bb62-8cd0ebf9501a",
    "outputId": "10237c17-3df3-477d-f3a5-d9afae82ed92",
    "tags": []
   },
   "outputs": [
    {
     "data": {
      "text/plain": [
       "<tf.Tensor: shape=(), dtype=int64, numpy=0>"
      ]
     },
     "execution_count": 48,
     "metadata": {},
     "output_type": "execute_result"
    }
   ],
   "source": [
    "char_to_num(\"nick\")"
   ]
  },
  {
   "cell_type": "code",
   "execution_count": 49,
   "id": "0c2f48c9",
   "metadata": {
    "execution": {
     "iopub.execute_input": "2023-06-04T18:00:15.983261Z",
     "iopub.status.busy": "2023-06-04T18:00:15.982713Z",
     "iopub.status.idle": "2023-06-04T18:00:15.990053Z",
     "shell.execute_reply": "2023-06-04T18:00:15.988941Z",
     "shell.execute_reply.started": "2023-06-04T18:00:15.983227Z"
    },
    "id": "9491bab5-6a3c-4f79-879a-8f9fbe73ae2e",
    "tags": []
   },
   "outputs": [],
   "source": [
    "def load_alignments(path:str) -> List[str]: \n",
    "    with open(path, 'r') as f: \n",
    "        lines = f.readlines() \n",
    "    tokens = []\n",
    "    for line in lines:\n",
    "        line = line.split()\n",
    "        if line[2] != 'sil': \n",
    "            tokens = [*tokens,' ',line[2]]\n",
    "    return char_to_num(tf.reshape(tf.strings.unicode_split(tokens, input_encoding='UTF-8'), (-1)))[1:]"
   ]
  },
  {
   "cell_type": "code",
   "execution_count": 50,
   "id": "d5620096",
   "metadata": {
    "execution": {
     "iopub.execute_input": "2023-06-04T18:00:16.082248Z",
     "iopub.status.busy": "2023-06-04T18:00:16.081934Z",
     "iopub.status.idle": "2023-06-04T18:00:16.088261Z",
     "shell.execute_reply": "2023-06-04T18:00:16.087332Z",
     "shell.execute_reply.started": "2023-06-04T18:00:16.082220Z"
    },
    "id": "dd01ca9f-77fb-4643-a2aa-47dd82c5d66b",
    "tags": []
   },
   "outputs": [],
   "source": [
    "def load_data(path: str): \n",
    "    path = bytes.decode(path.numpy())\n",
    "    # file_name = path.split('/')[-1].split('.')[0]\n",
    "    # File name splitting for windows\n",
    "    file_name = path.split('.')[0]\n",
    "    video_path = os.path.join('data','s1',f'{file_name}.mpg')\n",
    "    alignment_path = os.path.join('data','alignments','s1',f'{file_name}.align')\n",
    "    frames = load_video(video_path) \n",
    "    alignments = load_alignments(alignment_path)\n",
    "    \n",
    "    return frames, alignments"
   ]
  },
  {
   "cell_type": "code",
   "execution_count": 51,
   "id": "a5f35399",
   "metadata": {
    "execution": {
     "iopub.execute_input": "2023-06-04T18:00:16.314851Z",
     "iopub.status.busy": "2023-06-04T18:00:16.314174Z",
     "iopub.status.idle": "2023-06-04T18:00:16.319390Z",
     "shell.execute_reply": "2023-06-04T18:00:16.318319Z",
     "shell.execute_reply.started": "2023-06-04T18:00:16.314816Z"
    },
    "id": "8cb7cc58-31ae-4904-a805-1177a82717d2",
    "tags": []
   },
   "outputs": [],
   "source": [
    "test_path = 'bbal6n.mpg'"
   ]
  },
  {
   "cell_type": "code",
   "execution_count": 52,
   "id": "f111ab29",
   "metadata": {
    "execution": {
     "iopub.execute_input": "2023-06-04T18:00:16.636031Z",
     "iopub.status.busy": "2023-06-04T18:00:16.635699Z",
     "iopub.status.idle": "2023-06-04T18:00:16.642938Z",
     "shell.execute_reply": "2023-06-04T18:00:16.642024Z",
     "shell.execute_reply.started": "2023-06-04T18:00:16.636002Z"
    },
    "id": "2ULr8c0ztW2X"
   },
   "outputs": [],
   "source": [
    "\n",
    "path='bbal6n.mpg'\n",
    "file_name = path.split('.')[0]"
   ]
  },
  {
   "cell_type": "code",
   "execution_count": 53,
   "id": "2f3dc156",
   "metadata": {
    "colab": {
     "base_uri": "https://localhost:8080/",
     "height": 36
    },
    "execution": {
     "iopub.execute_input": "2023-06-04T18:00:16.963822Z",
     "iopub.status.busy": "2023-06-04T18:00:16.963274Z",
     "iopub.status.idle": "2023-06-04T18:00:16.971446Z",
     "shell.execute_reply": "2023-06-04T18:00:16.970329Z",
     "shell.execute_reply.started": "2023-06-04T18:00:16.963787Z"
    },
    "id": "tI0-KWwdtb4j",
    "outputId": "3351bd3e-e4e6-44f3-cac2-3709da2d89bf"
   },
   "outputs": [
    {
     "data": {
      "text/plain": [
       "'bbal6n'"
      ]
     },
     "execution_count": 53,
     "metadata": {},
     "output_type": "execute_result"
    }
   ],
   "source": [
    "file_name"
   ]
  },
  {
   "cell_type": "code",
   "execution_count": 54,
   "id": "2aae3ab4",
   "metadata": {
    "colab": {
     "base_uri": "https://localhost:8080/",
     "height": 36
    },
    "execution": {
     "iopub.execute_input": "2023-06-04T18:00:17.389335Z",
     "iopub.status.busy": "2023-06-04T18:00:17.388988Z",
     "iopub.status.idle": "2023-06-04T18:00:17.396819Z",
     "shell.execute_reply": "2023-06-04T18:00:17.395892Z",
     "shell.execute_reply.started": "2023-06-04T18:00:17.389300Z"
    },
    "id": "76aa964f-0c84-490d-897a-d00e3966e2c9",
    "outputId": "6bec9ad5-9cd7-40d6-f541-e770a0469248"
   },
   "outputs": [
    {
     "data": {
      "text/plain": [
       "'bbal6n'"
      ]
     },
     "execution_count": 54,
     "metadata": {},
     "output_type": "execute_result"
    }
   ],
   "source": [
    "tf.convert_to_tensor(test_path).numpy().decode('utf-8').split('\\\\')[-1].split('.')[0]"
   ]
  },
  {
   "cell_type": "code",
   "execution_count": 55,
   "id": "4503677c",
   "metadata": {
    "execution": {
     "iopub.execute_input": "2023-06-04T18:00:17.762695Z",
     "iopub.status.busy": "2023-06-04T18:00:17.761803Z",
     "iopub.status.idle": "2023-06-04T18:00:20.697421Z",
     "shell.execute_reply": "2023-06-04T18:00:20.696482Z",
     "shell.execute_reply.started": "2023-06-04T18:00:17.762653Z"
    },
    "id": "eb602c71-8560-4f9e-b26b-08202febb937",
    "scrolled": true,
    "tags": []
   },
   "outputs": [],
   "source": [
    "frames, alignments = load_data(tf.convert_to_tensor(test_path)) #dataset object has its elements as tensor"
   ]
  },
  {
   "cell_type": "code",
   "execution_count": 57,
   "id": "8a13128b",
   "metadata": {
    "colab": {
     "base_uri": "https://localhost:8080/"
    },
    "execution": {
     "iopub.execute_input": "2023-06-04T18:00:25.296542Z",
     "iopub.status.busy": "2023-06-04T18:00:25.296167Z",
     "iopub.status.idle": "2023-06-04T18:00:25.302612Z",
     "shell.execute_reply": "2023-06-04T18:00:25.301631Z",
     "shell.execute_reply.started": "2023-06-04T18:00:25.296512Z"
    },
    "id": "0b67b7e9",
    "jupyter": {
     "source_hidden": true
    },
    "outputId": "329391e9-4421-4b41-daf0-700d6362240b"
   },
   "outputs": [
    {
     "data": {
      "text/plain": [
       "21"
      ]
     },
     "execution_count": 57,
     "metadata": {},
     "output_type": "execute_result"
    }
   ],
   "source": [
    "len(alignments)"
   ]
  },
  {
   "cell_type": "code",
   "execution_count": 58,
   "id": "f5efc87d",
   "metadata": {
    "colab": {
     "base_uri": "https://localhost:8080/",
     "height": 224
    },
    "execution": {
     "iopub.execute_input": "2023-06-04T18:00:25.374168Z",
     "iopub.status.busy": "2023-06-04T18:00:25.373653Z",
     "iopub.status.idle": "2023-06-04T18:00:25.669322Z",
     "shell.execute_reply": "2023-06-04T18:00:25.668320Z",
     "shell.execute_reply.started": "2023-06-04T18:00:25.374135Z"
    },
    "id": "0e3184a1-6b02-4b4f-84a8-a0a65f951ea2",
    "outputId": "c516be95-79c0-4dd1-b903-c1b83b9ebf49"
   },
   "outputs": [
    {
     "data": {
      "text/plain": [
       "<matplotlib.image.AxesImage at 0x793e5244c430>"
      ]
     },
     "execution_count": 58,
     "metadata": {},
     "output_type": "execute_result"
    },
    {
     "data": {
      "image/png": "[encoded data removed]",
      "text/plain": [
       "<Figure size 640x480 with 1 Axes>"
      ]
     },
     "metadata": {},
     "output_type": "display_data"
    }
   ],
   "source": [
    "plt.imshow(frames[40])"
   ]
  },
  {
   "cell_type": "code",
   "execution_count": 59,
   "id": "84201420",
   "metadata": {
    "colab": {
     "base_uri": "https://localhost:8080/"
    },
    "execution": {
     "iopub.execute_input": "2023-06-04T18:00:25.672205Z",
     "iopub.status.busy": "2023-06-04T18:00:25.671361Z",
     "iopub.status.idle": "2023-06-04T18:00:25.679629Z",
     "shell.execute_reply": "2023-06-04T18:00:25.678512Z",
     "shell.execute_reply.started": "2023-06-04T18:00:25.672169Z"
    },
    "id": "d7ec0833-d54b-4073-84cf-92d011c60ec1",
    "outputId": "964cf8c5-4541-4b79-96e5-fcd396def874"
   },
   "outputs": [
    {
     "data": {
      "text/plain": [
       "<tf.Tensor: shape=(21,), dtype=int64, numpy=\n",
       "array([ 2,  9, 14, 39,  2, 12, 21,  5, 39,  1, 20, 39, 12, 39, 19,  9, 24,\n",
       "       39, 14, 15, 23])>"
      ]
     },
     "execution_count": 59,
     "metadata": {},
     "output_type": "execute_result"
    }
   ],
   "source": [
    "alignments"
   ]
  },
  {
   "cell_type": "code",
   "execution_count": 60,
   "id": "ad5e89a9",
   "metadata": {
    "colab": {
     "base_uri": "https://localhost:8080/",
     "height": 36
    },
    "execution": {
     "iopub.execute_input": "2023-06-04T18:00:25.681880Z",
     "iopub.status.busy": "2023-06-04T18:00:25.681452Z",
     "iopub.status.idle": "2023-06-04T18:00:25.697678Z",
     "shell.execute_reply": "2023-06-04T18:00:25.696513Z",
     "shell.execute_reply.started": "2023-06-04T18:00:25.681846Z"
    },
    "id": "fe1ad370-b287-4b46-85a2-7c45b0bd9b10",
    "outputId": "4233bf03-215f-4e3a-961a-d75f991d9ec4"
   },
   "outputs": [
    {
     "data": {
      "text/plain": [
       "'bin blue at l six now'"
      ]
     },
     "execution_count": 60,
     "metadata": {},
     "output_type": "execute_result"
    }
   ],
   "source": [
    "tf.strings.reduce_join([bytes.decode(x) for x in num_to_char(alignments.numpy()).numpy()]).numpy().decode('utf-8')"
   ]
  },
  {
   "cell_type": "code",
   "execution_count": 61,
   "id": "a22b5b49",
   "metadata": {
    "execution": {
     "iopub.execute_input": "2023-06-04T18:00:27.429892Z",
     "iopub.status.busy": "2023-06-04T18:00:27.429181Z",
     "iopub.status.idle": "2023-06-04T18:00:27.435946Z",
     "shell.execute_reply": "2023-06-04T18:00:27.434600Z",
     "shell.execute_reply.started": "2023-06-04T18:00:27.429855Z"
    },
    "id": "6871031a-b0ba-4c76-a852-f6329b0f2606",
    "tags": []
   },
   "outputs": [],
   "source": [
    "def preprocess_data(path:str) ->List[str]:\n",
    "                                               #frames     #alignments\n",
    "    result = tf.py_function(load_data, [path], (tf.float32, tf.int64))\n",
    "    return result"
   ]
  },
  {
   "cell_type": "markdown",
   "id": "21e96bbe",
   "metadata": {
    "id": "c40a7eb4-0c3e-4eab-9291-5611cb68ce08",
    "tags": []
   },
   "source": [
    "# 2. Create Data Pipeline"
   ]
  },
  {
   "cell_type": "code",
   "execution_count": 62,
   "id": "e1c625cb",
   "metadata": {
    "execution": {
     "iopub.execute_input": "2023-06-04T18:00:28.088911Z",
     "iopub.status.busy": "2023-06-04T18:00:28.088236Z",
     "iopub.status.idle": "2023-06-04T18:00:28.093379Z",
     "shell.execute_reply": "2023-06-04T18:00:28.092489Z",
     "shell.execute_reply.started": "2023-06-04T18:00:28.088877Z"
    },
    "id": "7686355d-45aa-4c85-ad9c-053e6a9b4d81",
    "tags": []
   },
   "outputs": [],
   "source": [
    "from matplotlib import pyplot as plt"
   ]
  },
  {
   "cell_type": "code",
   "execution_count": 63,
   "id": "0f69979d",
   "metadata": {
    "execution": {
     "iopub.execute_input": "2023-06-04T18:00:30.415740Z",
     "iopub.status.busy": "2023-06-04T18:00:30.415381Z",
     "iopub.status.idle": "2023-06-04T18:00:30.527714Z",
     "shell.execute_reply": "2023-06-04T18:00:30.526782Z",
     "shell.execute_reply.started": "2023-06-04T18:00:30.415712Z"
    },
    "id": "f066fea2-91b1-42ed-a67d-00566a1a53ff",
    "tags": []
   },
   "outputs": [],
   "source": [
    "# data = tf.data.Dataset.list_files('./data/s1/*.mpg')\n",
    "data = tf.data.Dataset.from_tensor_slices((list(mini_data[\"video\"])))\n",
    "data = data.shuffle(11, reshuffle_each_iteration=False)\n",
    "\n",
    "# Split data into training and testing\n",
    "num_train = int(0.8 * 500)\n",
    "num_test = 500 - num_train\n",
    "train_data = data.take(num_train)\n",
    "test_data = data.skip(num_train)\n",
    "\n",
    "train_data = train_data.map(preprocess_data)\n",
    "train_data = train_data.padded_batch(2, padded_shapes=([75,None,None,None],[40])) #returns 3videos and 3 alignments\n",
    "train_data = train_data.prefetch(tf.data.AUTOTUNE)\n",
    "\n",
    "test_data = test_data.map(preprocess_data)\n",
    "test_data = test_data.padded_batch(2, padded_shapes=([75,None,None,None],[40]))\n",
    "test_data = test_data.prefetch(tf.data.AUTOTUNE)"
   ]
  },
  {
   "cell_type": "code",
   "execution_count": 64,
   "id": "dacff1fc",
   "metadata": {
    "colab": {
     "base_uri": "https://localhost:8080/"
    },
    "execution": {
     "iopub.execute_input": "2023-06-04T18:00:30.529670Z",
     "iopub.status.busy": "2023-06-04T18:00:30.529321Z",
     "iopub.status.idle": "2023-06-04T18:00:30.537433Z",
     "shell.execute_reply": "2023-06-04T18:00:30.536423Z",
     "shell.execute_reply.started": "2023-06-04T18:00:30.529638Z"
    },
    "id": "3vRBzk-fq2uY",
    "outputId": "d740883d-d019-4fc5-d5ac-957c84b92d8a"
   },
   "outputs": [
    {
     "data": {
      "text/plain": [
       "200"
      ]
     },
     "execution_count": 64,
     "metadata": {},
     "output_type": "execute_result"
    }
   ],
   "source": [
    "len(train_data)"
   ]
  },
  {
   "cell_type": "code",
   "execution_count": 65,
   "id": "105bfc7a",
   "metadata": {
    "colab": {
     "base_uri": "https://localhost:8080/"
    },
    "execution": {
     "iopub.execute_input": "2023-06-04T18:00:31.657094Z",
     "iopub.status.busy": "2023-06-04T18:00:31.656258Z",
     "iopub.status.idle": "2023-06-04T18:00:31.664136Z",
     "shell.execute_reply": "2023-06-04T18:00:31.663020Z",
     "shell.execute_reply.started": "2023-06-04T18:00:31.657057Z"
    },
    "id": "SewLgy0P0sAd",
    "outputId": "b0010764-3ced-48d4-8906-0cd64ce79af3"
   },
   "outputs": [
    {
     "name": "stdout",
     "output_type": "stream",
     "text": [
      "Number of padded batches in train data: 200\n",
      "Number of padded batches in test data: 51\n"
     ]
    }
   ],
   "source": [
    "# Get the number of samples in the train data\n",
    "train_size = train_data.cardinality().numpy()\n",
    "print(f\"Number of padded batches in train data: {train_size}\")\n",
    "\n",
    "# Get the number of samples in the test data\n",
    "test_size = test_data.cardinality().numpy()\n",
    "print(f\"Number of padded batches in test data: {test_size}\")"
   ]
  },
  {
   "cell_type": "code",
   "execution_count": 66,
   "id": "b496e177",
   "metadata": {
    "colab": {
     "base_uri": "https://localhost:8080/"
    },
    "execution": {
     "iopub.execute_input": "2023-06-04T18:00:32.009960Z",
     "iopub.status.busy": "2023-06-04T18:00:32.009599Z",
     "iopub.status.idle": "2023-06-04T18:00:41.398893Z",
     "shell.execute_reply": "2023-06-04T18:00:41.398003Z",
     "shell.execute_reply.started": "2023-06-04T18:00:32.009930Z"
    },
    "id": "6b1365bd-7742-41d1-95d4-247021751c3a",
    "outputId": "9e09c6b8-240c-4c3f-d2a8-17ac256bb57b"
   },
   "outputs": [
    {
     "data": {
      "text/plain": [
       "40"
      ]
     },
     "execution_count": 66,
     "metadata": {},
     "output_type": "execute_result"
    }
   ],
   "source": [
    "\n",
    "                                #pointer \n",
    "                                #iterates over \n",
    "                                #padded batch   #vids/alignments  #video/align num in batch\n",
    "len(train_data.as_numpy_iterator().next()         [1]              [1])"
   ]
  },
  {
   "cell_type": "code",
   "execution_count": 67,
   "id": "780cfc52",
   "metadata": {
    "execution": {
     "iopub.execute_input": "2023-06-04T18:00:41.401787Z",
     "iopub.status.busy": "2023-06-04T18:00:41.400926Z",
     "iopub.status.idle": "2023-06-04T18:00:49.946156Z",
     "shell.execute_reply": "2023-06-04T18:00:49.945213Z",
     "shell.execute_reply.started": "2023-06-04T18:00:41.401748Z"
    },
    "id": "5281bde8-fdc8-4da1-bd55-5a7929a9e80c"
   },
   "outputs": [],
   "source": [
    "frames, alignments = train_data.as_numpy_iterator().next()"
   ]
  },
  {
   "cell_type": "code",
   "execution_count": 68,
   "id": "0b32c8a7",
   "metadata": {
    "colab": {
     "base_uri": "https://localhost:8080/"
    },
    "execution": {
     "iopub.execute_input": "2023-06-04T18:00:49.947773Z",
     "iopub.status.busy": "2023-06-04T18:00:49.947469Z",
     "iopub.status.idle": "2023-06-04T18:00:49.954459Z",
     "shell.execute_reply": "2023-06-04T18:00:49.953418Z",
     "shell.execute_reply.started": "2023-06-04T18:00:49.947746Z"
    },
    "id": "cbebe683-6afd-47fd-bba4-c83b4b13bb32",
    "outputId": "2316f73f-ddf5-4cd3-d3fb-26b124cb2922"
   },
   "outputs": [
    {
     "data": {
      "text/plain": [
       "2"
      ]
     },
     "execution_count": 68,
     "metadata": {},
     "output_type": "execute_result"
    }
   ],
   "source": [
    "len(alignments)"
   ]
  },
  {
   "cell_type": "markdown",
   "id": "7357c2e7",
   "metadata": {
    "id": "0f47733c-83bc-465c-b118-b198b492ad37",
    "tags": []
   },
   "source": [
    "# 3. Design the Deep Neural Network"
   ]
  },
  {
   "cell_type": "code",
   "execution_count": 69,
   "id": "9357c444",
   "metadata": {
    "execution": {
     "iopub.execute_input": "2023-06-04T18:00:49.958831Z",
     "iopub.status.busy": "2023-06-04T18:00:49.958064Z",
     "iopub.status.idle": "2023-06-04T18:00:49.965351Z",
     "shell.execute_reply": "2023-06-04T18:00:49.964422Z",
     "shell.execute_reply.started": "2023-06-04T18:00:49.958794Z"
    },
    "id": "d8e9a497-191b-4842-afbd-26f5e13c43ba",
    "tags": []
   },
   "outputs": [],
   "source": [
    "from tensorflow.keras.models import Sequential \n",
    "from tensorflow.keras.layers import Conv3D, LSTM, Dense, Dropout, Bidirectional, MaxPool3D, Activation, Reshape, SpatialDropout3D, BatchNormalization, TimeDistributed, Flatten\n",
    "from tensorflow.keras.optimizers import Adam\n",
    "from tensorflow.keras.callbacks import ModelCheckpoint, LearningRateScheduler"
   ]
  },
  {
   "cell_type": "code",
   "execution_count": 70,
   "id": "52c03cc2",
   "metadata": {
    "execution": {
     "iopub.execute_input": "2023-06-04T18:00:49.967656Z",
     "iopub.status.busy": "2023-06-04T18:00:49.966643Z",
     "iopub.status.idle": "2023-06-04T18:00:49.975776Z",
     "shell.execute_reply": "2023-06-04T18:00:49.974864Z",
     "shell.execute_reply.started": "2023-06-04T18:00:49.967621Z"
    }
   },
   "outputs": [],
   "source": [
    "INPUT_SHAPE=(75,40,140,1)"
   ]
  },
  {
   "cell_type": "code",
   "execution_count": 107,
   "id": "1871fbf1",
   "metadata": {
    "execution": {
     "iopub.execute_input": "2023-06-04T18:11:23.526175Z",
     "iopub.status.busy": "2023-06-04T18:11:23.525676Z",
     "iopub.status.idle": "2023-06-04T18:11:25.263741Z",
     "shell.execute_reply": "2023-06-04T18:11:25.262517Z",
     "shell.execute_reply.started": "2023-06-04T18:11:23.526138Z"
    }
   },
   "outputs": [],
   "source": [
    "model = Sequential()\n",
    "model.add(Conv3D(128, 3, input_shape=(75,40,140,1), padding='same',name=\"conv1\"))\n",
    "model.add(Activation('relu'))\n",
    "model.add(MaxPool3D((1,2,2)))\n",
    "\n",
    "model.add(Conv3D(256, 3, padding='same',name=\"conv2\"))\n",
    "model.add(Activation('relu'))\n",
    "model.add(MaxPool3D((1,2,2)))\n",
    "\n",
    "model.add(Conv3D(75,3, padding='same',name=\"conv3\"))\n",
    "model.add(Activation('relu'))\n",
    "model.add(MaxPool3D((1,2,2)))\n",
    "\n",
    "model.add(TimeDistributed(Flatten(),name=\"time_distributed\"))\n",
    "\n",
    "model.add(Bidirectional(LSTM(128, return_sequences=True),name=\"bi_lstm1\"))\n",
    "model.add(Dropout(.5))\n",
    "\n",
    "model.add(Bidirectional(LSTM(128, return_sequences=True),name=\"bi_lstm2\"))\n",
    "model.add(Dropout(.5))\n",
    "\n",
    "model.add(Dense(char_to_num.vocabulary_size()+1, kernel_initializer='he_normal', activation='softmax',name=\"final_dense\"))"
   ]
  },
  {
   "cell_type": "code",
   "execution_count": 108,
   "id": "cc6621e0",
   "metadata": {
    "execution": {
     "iopub.execute_input": "2023-06-04T18:11:25.265954Z",
     "iopub.status.busy": "2023-06-04T18:11:25.265585Z",
     "iopub.status.idle": "2023-06-04T18:11:25.274545Z",
     "shell.execute_reply": "2023-06-04T18:11:25.273116Z",
     "shell.execute_reply.started": "2023-06-04T18:11:25.265920Z"
    }
   },
   "outputs": [
    {
     "data": {
      "text/plain": [
       "<bound method Model.summary of <keras.engine.sequential.Sequential object at 0x793e6a90b250>>"
      ]
     },
     "execution_count": 108,
     "metadata": {},
     "output_type": "execute_result"
    }
   ],
   "source": [
    "model.summary"
   ]
  },
  {
   "cell_type": "code",
   "execution_count": 76,
   "id": "3279db11",
   "metadata": {
    "execution": {
     "iopub.execute_input": "2023-06-04T18:01:28.626546Z",
     "iopub.status.busy": "2023-06-04T18:01:28.626081Z",
     "iopub.status.idle": "2023-06-04T18:01:28.645143Z",
     "shell.execute_reply": "2023-06-04T18:01:28.644137Z",
     "shell.execute_reply.started": "2023-06-04T18:01:28.626504Z"
    },
    "id": "el3z9B2V9Xyc"
   },
   "outputs": [],
   "source": [
    "sample = test_data.as_numpy_iterator()"
   ]
  },
  {
   "cell_type": "code",
   "execution_count": 77,
   "id": "b6ff9f75",
   "metadata": {
    "execution": {
     "iopub.execute_input": "2023-06-04T18:01:29.735812Z",
     "iopub.status.busy": "2023-06-04T18:01:29.735434Z",
     "iopub.status.idle": "2023-06-04T18:01:29.741841Z",
     "shell.execute_reply": "2023-06-04T18:01:29.740850Z",
     "shell.execute_reply.started": "2023-06-04T18:01:29.735784Z"
    }
   },
   "outputs": [
    {
     "data": {
      "text/plain": [
       "tensorflow.python.data.ops.dataset_ops._NumpyIterator"
      ]
     },
     "execution_count": 77,
     "metadata": {},
     "output_type": "execute_result"
    }
   ],
   "source": [
    "type(sample)"
   ]
  },
  {
   "cell_type": "code",
   "execution_count": 78,
   "id": "d2e10e55",
   "metadata": {
    "colab": {
     "base_uri": "https://localhost:8080/"
    },
    "execution": {
     "iopub.execute_input": "2023-06-04T18:01:32.441749Z",
     "iopub.status.busy": "2023-06-04T18:01:32.441211Z",
     "iopub.status.idle": "2023-06-04T18:01:32.448173Z",
     "shell.execute_reply": "2023-06-04T18:01:32.447282Z",
     "shell.execute_reply.started": "2023-06-04T18:01:32.441709Z"
    },
    "id": "o1xzVzOU9irV",
    "outputId": "95bdbc56-8bd8-40ac-9ed7-f1e28205368b"
   },
   "outputs": [
    {
     "data": {
      "text/plain": [
       "51"
      ]
     },
     "execution_count": 78,
     "metadata": {},
     "output_type": "execute_result"
    }
   ],
   "source": [
    "len(test_data)"
   ]
  },
  {
   "cell_type": "code",
   "execution_count": 79,
   "id": "3bc819aa",
   "metadata": {
    "colab": {
     "base_uri": "https://localhost:8080/"
    },
    "execution": {
     "iopub.execute_input": "2023-06-04T18:01:34.941330Z",
     "iopub.status.busy": "2023-06-04T18:01:34.940340Z",
     "iopub.status.idle": "2023-06-04T18:01:40.700499Z",
     "shell.execute_reply": "2023-06-04T18:01:40.699486Z",
     "shell.execute_reply.started": "2023-06-04T18:01:34.941295Z"
    },
    "id": "bEDDPQDV9X2u",
    "outputId": "d9ed86a5-3900-47fa-c9b0-7aa2191ebfa7"
   },
   "outputs": [
    {
     "data": {
      "text/plain": [
       "numpy.ndarray"
      ]
     },
     "execution_count": 79,
     "metadata": {},
     "output_type": "execute_result"
    }
   ],
   "source": [
    "val = sample.next(); #contains a batch\n",
    "\n",
    "type(val[0])"
   ]
  },
  {
   "cell_type": "code",
   "execution_count": 80,
   "id": "ef2fe246",
   "metadata": {
    "colab": {
     "base_uri": "https://localhost:8080/"
    },
    "execution": {
     "iopub.execute_input": "2023-06-04T18:01:40.703559Z",
     "iopub.status.busy": "2023-06-04T18:01:40.702954Z",
     "iopub.status.idle": "2023-06-04T18:01:40.715240Z",
     "shell.execute_reply": "2023-06-04T18:01:40.714406Z",
     "shell.execute_reply.started": "2023-06-04T18:01:40.703524Z"
    },
    "id": "32529b1b",
    "outputId": "969efa4b-ecea-406b-80a5-2e3ea039d182"
   },
   "outputs": [
    {
     "data": {
      "text/plain": [
       "(75, 40, 140, 1)"
      ]
     },
     "execution_count": 80,
     "metadata": {},
     "output_type": "execute_result"
    }
   ],
   "source": [
    "val[0][0].shape"
   ]
  },
  {
   "cell_type": "code",
   "execution_count": 81,
   "id": "ffcdb7dc",
   "metadata": {
    "execution": {
     "iopub.execute_input": "2023-06-04T18:02:59.097852Z",
     "iopub.status.busy": "2023-06-04T18:02:59.097455Z",
     "iopub.status.idle": "2023-06-04T18:02:59.104282Z",
     "shell.execute_reply": "2023-06-04T18:02:59.103350Z",
     "shell.execute_reply.started": "2023-06-04T18:02:59.097821Z"
    }
   },
   "outputs": [
    {
     "data": {
      "text/plain": [
       "(2, 75, 40, 140, 1)"
      ]
     },
     "execution_count": 81,
     "metadata": {},
     "output_type": "execute_result"
    }
   ],
   "source": [
    "val[0].shape"
   ]
  },
  {
   "cell_type": "code",
   "execution_count": 84,
   "id": "ee799d8b",
   "metadata": {
    "colab": {
     "base_uri": "https://localhost:8080/"
    },
    "execution": {
     "iopub.execute_input": "2023-06-04T18:03:19.568925Z",
     "iopub.status.busy": "2023-06-04T18:03:19.568538Z",
     "iopub.status.idle": "2023-06-04T18:03:28.897747Z",
     "shell.execute_reply": "2023-06-04T18:03:28.896689Z",
     "shell.execute_reply.started": "2023-06-04T18:03:19.568896Z"
    },
    "id": "e5c2eae0-c359-41a4-97a0-75c44dccb7d1",
    "outputId": "28525576-ad5f-446a-c520-4d0af79fd3e2",
    "tags": []
   },
   "outputs": [
    {
     "name": "stdout",
     "output_type": "stream",
     "text": [
      "1/1 [==============================] - 9s 9s/step\n"
     ]
    }
   ],
   "source": [
    "yhat = model2.predict(val[0])"
   ]
  },
  {
   "cell_type": "code",
   "execution_count": 85,
   "id": "3f558bac",
   "metadata": {
    "colab": {
     "base_uri": "https://localhost:8080/"
    },
    "execution": {
     "iopub.execute_input": "2023-06-04T18:03:28.900840Z",
     "iopub.status.busy": "2023-06-04T18:03:28.900469Z",
     "iopub.status.idle": "2023-06-04T18:03:28.951311Z",
     "shell.execute_reply": "2023-06-04T18:03:28.950287Z",
     "shell.execute_reply.started": "2023-06-04T18:03:28.900805Z"
    },
    "id": "DLXwAcoT_NK1",
    "outputId": "38cb0f74-1d1c-41da-c1e0-667a31cf0121"
   },
   "outputs": [
    {
     "data": {
      "text/plain": [
       "<tf.Tensor: shape=(), dtype=string, numpy=b'lay white at l four please'>"
      ]
     },
     "execution_count": 85,
     "metadata": {},
     "output_type": "execute_result"
    }
   ],
   "source": [
    "tf.strings.reduce_join([num_to_char(word) for word in val[1][1]])"
   ]
  },
  {
   "cell_type": "code",
   "execution_count": 86,
   "id": "6624a732",
   "metadata": {
    "colab": {
     "base_uri": "https://localhost:8080/"
    },
    "execution": {
     "iopub.execute_input": "2023-06-04T18:03:28.953649Z",
     "iopub.status.busy": "2023-06-04T18:03:28.953197Z",
     "iopub.status.idle": "2023-06-04T18:03:28.971169Z",
     "shell.execute_reply": "2023-06-04T18:03:28.970187Z",
     "shell.execute_reply.started": "2023-06-04T18:03:28.953615Z"
    },
    "id": "cQlBcE0V8RTu",
    "outputId": "2d285aef-5ad5-4e99-aacb-5d4dfb7cd844"
   },
   "outputs": [
    {
     "data": {
      "text/plain": [
       "<tf.Tensor: shape=(75,), dtype=int64, numpy=\n",
       "array([31, 31, 31, 31, 31, 31, 31, 31, 31, 31, 31, 31, 31, 31, 31, 31, 31,\n",
       "       31, 31, 31, 31, 31, 31, 31, 31, 31, 31, 31, 31, 31, 31, 31, 31, 31,\n",
       "       31, 31, 31, 31, 31, 31, 31, 31, 31, 31, 31, 31, 31, 31, 31, 31, 31,\n",
       "       31, 31, 31, 31, 31, 31, 31, 31, 31, 31, 31, 31, 31, 31, 31, 31, 31,\n",
       "       31, 31, 31, 31, 31, 25, 25])>"
      ]
     },
     "execution_count": 86,
     "metadata": {},
     "output_type": "execute_result"
    }
   ],
   "source": [
    "tf.argmax(yhat[1],axis=1)"
   ]
  },
  {
   "cell_type": "code",
   "execution_count": 87,
   "id": "68ae9ce1",
   "metadata": {
    "colab": {
     "base_uri": "https://localhost:8080/"
    },
    "execution": {
     "iopub.execute_input": "2023-06-04T18:03:48.627754Z",
     "iopub.status.busy": "2023-06-04T18:03:48.627386Z",
     "iopub.status.idle": "2023-06-04T18:03:48.734836Z",
     "shell.execute_reply": "2023-06-04T18:03:48.733852Z",
     "shell.execute_reply.started": "2023-06-04T18:03:48.627726Z"
    },
    "id": "ffdc7319-0d69-4f7e-a6d4-ce72deb81c0b",
    "outputId": "e824b60e-cd35-4907-b1ce-9198b0bb293b"
   },
   "outputs": [
    {
     "data": {
      "text/plain": [
       "<tf.Tensor: shape=(), dtype=string, numpy=b'2222222yyyyyyyyyyyyyyyyyyyyyyyyyyyyyyyyyyyyyyyyyyyyyyyyyyyyyyyyyyyyyyyyyyyy'>"
      ]
     },
     "execution_count": 87,
     "metadata": {},
     "output_type": "execute_result"
    }
   ],
   "source": [
    "tf.strings.reduce_join([num_to_char(x) for x in tf.argmax(yhat[0],axis=1)])"
   ]
  },
  {
   "cell_type": "code",
   "execution_count": 88,
   "id": "41d8b4d9",
   "metadata": {
    "colab": {
     "base_uri": "https://localhost:8080/"
    },
    "execution": {
     "iopub.execute_input": "2023-06-04T18:04:17.802429Z",
     "iopub.status.busy": "2023-06-04T18:04:17.802039Z",
     "iopub.status.idle": "2023-06-04T18:04:17.891277Z",
     "shell.execute_reply": "2023-06-04T18:04:17.890263Z",
     "shell.execute_reply.started": "2023-06-04T18:04:17.802396Z"
    },
    "id": "6ed47531-8317-4255-9a12-b757642258e6",
    "outputId": "f07d906d-718c-4ac3-d68a-276e85783a84",
    "tags": []
   },
   "outputs": [
    {
     "data": {
      "text/plain": [
       "<tf.Tensor: shape=(), dtype=string, numpy=b'2222222yyyyyyyyyyyyyyyyyyyyyyyyyyyyyyyyyyyyyyyyyyyyyyyyyyyyyyyyyyyyyyyyyyyy'>"
      ]
     },
     "execution_count": 88,
     "metadata": {},
     "output_type": "execute_result"
    }
   ],
   "source": [
    "tf.strings.reduce_join([num_to_char(tf.argmax(x)) for x in yhat[0]])"
   ]
  },
  {
   "cell_type": "markdown",
   "id": "2c32cbd6",
   "metadata": {
    "id": "2ec02176-5c26-46c3-aff7-8352e6563c7d",
    "tags": []
   },
   "source": [
    "# 4. Setup Training Options and Train"
   ]
  },
  {
   "cell_type": "code",
   "execution_count": 94,
   "id": "d3f12f60",
   "metadata": {
    "execution": {
     "iopub.execute_input": "2023-06-04T18:05:25.023930Z",
     "iopub.status.busy": "2023-06-04T18:05:25.023556Z",
     "iopub.status.idle": "2023-06-04T18:05:25.029628Z",
     "shell.execute_reply": "2023-06-04T18:05:25.028517Z",
     "shell.execute_reply.started": "2023-06-04T18:05:25.023898Z"
    },
    "id": "ab015fd0-7fb4-4d5d-9fa2-30a05dbd515a",
    "tags": []
   },
   "outputs": [],
   "source": [
    "def scheduler(epoch, lr):\n",
    "    if epoch < 4:\n",
    "        return lr\n",
    "    else:\n",
    "        return lr * tf.math.exp(-0.1)"
   ]
  },
  {
   "cell_type": "code",
   "execution_count": 95,
   "id": "2d87894b",
   "metadata": {
    "execution": {
     "iopub.execute_input": "2023-06-04T18:05:27.767952Z",
     "iopub.status.busy": "2023-06-04T18:05:27.767267Z",
     "iopub.status.idle": "2023-06-04T18:05:27.774919Z",
     "shell.execute_reply": "2023-06-04T18:05:27.774025Z",
     "shell.execute_reply.started": "2023-06-04T18:05:27.767918Z"
    },
    "id": "c564d5c9-db54-4e88-b311-9aeab7fb3e69",
    "tags": []
   },
   "outputs": [],
   "source": [
    "#credit : https://keras.io/examples/audio/ctc_asr/#model\n",
    "\n",
    "def CTCLoss(y_true, y_pred):\n",
    "    batch_len = tf.cast(tf.shape(y_true)[0], dtype=\"int64\")\n",
    "    input_length = tf.cast(tf.shape(y_pred)[1], dtype=\"int64\")\n",
    "    label_length = tf.cast(tf.shape(y_true)[1], dtype=\"int64\")\n",
    "\n",
    "    input_length = input_length * tf.ones(shape=(batch_len, 1), dtype=\"int64\")\n",
    "    label_length = label_length * tf.ones(shape=(batch_len, 1), dtype=\"int64\")\n",
    "\n",
    "    loss = tf.keras.backend.ctc_batch_cost(y_true, y_pred, input_length, label_length)\n",
    "    return loss"
   ]
  },
  {
   "cell_type": "code",
   "execution_count": 96,
   "id": "848613c0",
   "metadata": {
    "execution": {
     "iopub.execute_input": "2023-06-04T18:05:28.873177Z",
     "iopub.status.busy": "2023-06-04T18:05:28.872820Z",
     "iopub.status.idle": "2023-06-04T18:05:28.881107Z",
     "shell.execute_reply": "2023-06-04T18:05:28.880091Z",
     "shell.execute_reply.started": "2023-06-04T18:05:28.873147Z"
    },
    "id": "a26dc3fc-a19c-4378-bd8c-e2b597a1d15c",
    "tags": []
   },
   "outputs": [],
   "source": [
    "class ProduceExample(tf.keras.callbacks.Callback): \n",
    "    def __init__(self, dataset) -> None: \n",
    "        self.dataset = dataset.as_numpy_iterator()\n",
    "    \n",
    "    def on_epoch_end(self, epoch, logs=None) -> None:\n",
    "        data = self.dataset.next()\n",
    "        yhat = self.model.predict(data[0])\n",
    "        decoded = tf.keras.backend.ctc_decode(yhat, [75,75], greedy=False)[0][0].numpy()\n",
    "        for x in range(len(yhat)):           \n",
    "            print('Original:', tf.strings.reduce_join(num_to_char(data[1][x])).numpy().decode('utf-8'))\n",
    "            print('Prediction:', tf.strings.reduce_join(num_to_char(decoded[x])).numpy().decode('utf-8'))\n",
    "            print('~'*100)"
   ]
  },
  {
   "cell_type": "code",
   "execution_count": 110,
   "id": "b07c64aa",
   "metadata": {
    "execution": {
     "iopub.execute_input": "2023-06-04T18:11:56.900010Z",
     "iopub.status.busy": "2023-06-04T18:11:56.899651Z",
     "iopub.status.idle": "2023-06-04T18:11:56.913965Z",
     "shell.execute_reply": "2023-06-04T18:11:56.912774Z",
     "shell.execute_reply.started": "2023-06-04T18:11:56.899982Z"
    },
    "id": "04be90d8-2482-46f9-b513-d5f4f8001c7e",
    "tags": []
   },
   "outputs": [],
   "source": [
    "model.compile(optimizer=Adam(learning_rate=0.001), loss=CTCLoss)"
   ]
  },
  {
   "cell_type": "code",
   "execution_count": 111,
   "id": "60bf5344",
   "metadata": {
    "execution": {
     "iopub.execute_input": "2023-06-04T18:11:57.550393Z",
     "iopub.status.busy": "2023-06-04T18:11:57.549537Z",
     "iopub.status.idle": "2023-06-04T18:11:57.555378Z",
     "shell.execute_reply": "2023-06-04T18:11:57.554177Z",
     "shell.execute_reply.started": "2023-06-04T18:11:57.550337Z"
    },
    "id": "eab49367-3f1e-4464-ae76-dbd07549d97e",
    "tags": []
   },
   "outputs": [],
   "source": [
    "checkpoint_callback = ModelCheckpoint(os.path.join('models','checkpoint'), monitor='loss', save_weights_only=True) "
   ]
  },
  {
   "cell_type": "code",
   "execution_count": 112,
   "id": "af1bfc7b",
   "metadata": {
    "execution": {
     "iopub.execute_input": "2023-06-04T18:11:58.026673Z",
     "iopub.status.busy": "2023-06-04T18:11:58.025039Z",
     "iopub.status.idle": "2023-06-04T18:11:58.031450Z",
     "shell.execute_reply": "2023-06-04T18:11:58.030386Z",
     "shell.execute_reply.started": "2023-06-04T18:11:58.026627Z"
    },
    "id": "e085a632-d464-46ef-8777-959cad4adb2c",
    "tags": []
   },
   "outputs": [],
   "source": [
    "schedule_callback = LearningRateScheduler(scheduler)"
   ]
  },
  {
   "cell_type": "code",
   "execution_count": 113,
   "id": "d63c75f8",
   "metadata": {
    "execution": {
     "iopub.execute_input": "2023-06-04T18:11:58.680034Z",
     "iopub.status.busy": "2023-06-04T18:11:58.679376Z",
     "iopub.status.idle": "2023-06-04T18:11:58.691923Z",
     "shell.execute_reply": "2023-06-04T18:11:58.690882Z",
     "shell.execute_reply.started": "2023-06-04T18:11:58.680000Z"
    },
    "id": "48eca991-90ab-4592-8a79-b50e9ca015b6",
    "tags": []
   },
   "outputs": [],
   "source": [
    "example_callback = ProduceExample(train_data)"
   ]
  },
  {
   "cell_type": "code",
   "execution_count": 117,
   "id": "35df2419",
   "metadata": {
    "colab": {
     "base_uri": "https://localhost:8080/"
    },
    "execution": {
     "iopub.execute_input": "2023-06-04T18:12:00.972774Z",
     "iopub.status.busy": "2023-06-04T18:12:00.972419Z",
     "iopub.status.idle": "2023-06-04T21:01:22.219642Z",
     "shell.execute_reply": "2023-06-04T21:01:22.218460Z",
     "shell.execute_reply.started": "2023-06-04T18:12:00.972747Z"
    },
    "id": "8ffba483-aa61-4bbe-a15f-a73e1ddf097c",
    "outputId": "bdfc4602-f58f-4e79-f73b-460064a55463",
    "tags": []
   },
   "outputs": [
    {
     "name": "stdout",
     "output_type": "stream",
     "text": [
      "Epoch 1/8\n",
      "1/1 [==============================] - 3s 3s/steps - loss: 88.01\n",
      "Original: set blue at t eight please\n",
      "Prediction:  e e e e e o\n",
      "~~~~~~~~~~~~~~~~~~~~~~~~~~~~~~~~~~~~~~~~~~~~~~~~~~~~~~~~~~~~~~~~~~~~~~~~~~~~~~~~~~~~~~~~~~~~~~~~~~~~\n",
      "Original: place white in x one soon\n",
      "Prediction:  e e e e e o\n",
      "~~~~~~~~~~~~~~~~~~~~~~~~~~~~~~~~~~~~~~~~~~~~~~~~~~~~~~~~~~~~~~~~~~~~~~~~~~~~~~~~~~~~~~~~~~~~~~~~~~~~\n",
      "200/200 [==============================] - 1275s 6s/step - loss: 88.0163 - lr: 0.0010\n",
      "Epoch 2/8\n",
      "1/1 [==============================] - 0s 240ms/step loss: 73.14\n",
      "Original: place green with z one again\n",
      "Prediction: le e e e e o\n",
      "~~~~~~~~~~~~~~~~~~~~~~~~~~~~~~~~~~~~~~~~~~~~~~~~~~~~~~~~~~~~~~~~~~~~~~~~~~~~~~~~~~~~~~~~~~~~~~~~~~~~\n",
      "Original: place blue by c four now\n",
      "Prediction: le e e e e o\n",
      "~~~~~~~~~~~~~~~~~~~~~~~~~~~~~~~~~~~~~~~~~~~~~~~~~~~~~~~~~~~~~~~~~~~~~~~~~~~~~~~~~~~~~~~~~~~~~~~~~~~~\n",
      "200/200 [==============================] - 1259s 6s/step - loss: 73.1486 - lr: 0.0010\n",
      "Epoch 3/8\n",
      "1/1 [==============================] - 0s 200ms/step loss: 70.16\n",
      "Original: set red in h zero now\n",
      "Prediction: l e e e oe\n",
      "~~~~~~~~~~~~~~~~~~~~~~~~~~~~~~~~~~~~~~~~~~~~~~~~~~~~~~~~~~~~~~~~~~~~~~~~~~~~~~~~~~~~~~~~~~~~~~~~~~~~\n",
      "Original: place red by d zero now\n",
      "Prediction: l e e e oe\n",
      "~~~~~~~~~~~~~~~~~~~~~~~~~~~~~~~~~~~~~~~~~~~~~~~~~~~~~~~~~~~~~~~~~~~~~~~~~~~~~~~~~~~~~~~~~~~~~~~~~~~~\n",
      "200/200 [==============================] - 1256s 6s/step - loss: 70.1601 - lr: 0.0010\n",
      "Epoch 4/8\n",
      "1/1 [==============================] - 0s 195ms/step loss: 66.78\n",
      "Original: place red with k one again\n",
      "Prediction: la re t e eon\n",
      "~~~~~~~~~~~~~~~~~~~~~~~~~~~~~~~~~~~~~~~~~~~~~~~~~~~~~~~~~~~~~~~~~~~~~~~~~~~~~~~~~~~~~~~~~~~~~~~~~~~~\n",
      "Original: set green with j seven again\n",
      "Prediction: la re t e eon\n",
      "~~~~~~~~~~~~~~~~~~~~~~~~~~~~~~~~~~~~~~~~~~~~~~~~~~~~~~~~~~~~~~~~~~~~~~~~~~~~~~~~~~~~~~~~~~~~~~~~~~~~\n",
      "200/200 [==============================] - 1246s 6s/step - loss: 66.7844 - lr: 0.0010\n",
      "Epoch 5/8\n",
      "1/1 [==============================] - 0s 216ms/step loss: 64.10\n",
      "Original: lay red in k two now\n",
      "Prediction: la re t e eao\n",
      "~~~~~~~~~~~~~~~~~~~~~~~~~~~~~~~~~~~~~~~~~~~~~~~~~~~~~~~~~~~~~~~~~~~~~~~~~~~~~~~~~~~~~~~~~~~~~~~~~~~~\n",
      "Original: bin red with t seven again\n",
      "Prediction: la re t e eao\n",
      "~~~~~~~~~~~~~~~~~~~~~~~~~~~~~~~~~~~~~~~~~~~~~~~~~~~~~~~~~~~~~~~~~~~~~~~~~~~~~~~~~~~~~~~~~~~~~~~~~~~~\n",
      "200/200 [==============================] - 1245s 6s/step - loss: 64.1060 - lr: 9.0484e-04\n",
      "Epoch 6/8\n",
      "1/1 [==============================] - 0s 187ms/step loss: 61.65\n",
      "Original: lay green by g zero please\n",
      "Prediction: la re t e eao\n",
      "~~~~~~~~~~~~~~~~~~~~~~~~~~~~~~~~~~~~~~~~~~~~~~~~~~~~~~~~~~~~~~~~~~~~~~~~~~~~~~~~~~~~~~~~~~~~~~~~~~~~\n",
      "Original: place red by j six please\n",
      "Prediction: la re t e eao\n",
      "~~~~~~~~~~~~~~~~~~~~~~~~~~~~~~~~~~~~~~~~~~~~~~~~~~~~~~~~~~~~~~~~~~~~~~~~~~~~~~~~~~~~~~~~~~~~~~~~~~~~\n",
      "200/200 [==============================] - 1246s 6s/step - loss: 61.6573 - lr: 8.1873e-04\n",
      "Epoch 7/8\n",
      "1/1 [==============================] - 0s 186ms/step loss: 60.21\n",
      "Original: lay white sp by z five soon\n",
      "Prediction: la re t e e ao\n",
      "~~~~~~~~~~~~~~~~~~~~~~~~~~~~~~~~~~~~~~~~~~~~~~~~~~~~~~~~~~~~~~~~~~~~~~~~~~~~~~~~~~~~~~~~~~~~~~~~~~~~\n",
      "Original: place white in p seven soon\n",
      "Prediction: la re t e e ao\n",
      "~~~~~~~~~~~~~~~~~~~~~~~~~~~~~~~~~~~~~~~~~~~~~~~~~~~~~~~~~~~~~~~~~~~~~~~~~~~~~~~~~~~~~~~~~~~~~~~~~~~~\n",
      "200/200 [==============================] - 1250s 6s/step - loss: 60.2109 - lr: 7.4082e-04\n",
      "Epoch 8/8\n",
      "1/1 [==============================] - 0s 217ms/step loss: 58.53\n",
      "Original: bin blue with s eight now\n",
      "Prediction: la re t e ao\n",
      "~~~~~~~~~~~~~~~~~~~~~~~~~~~~~~~~~~~~~~~~~~~~~~~~~~~~~~~~~~~~~~~~~~~~~~~~~~~~~~~~~~~~~~~~~~~~~~~~~~~~\n",
      "Original: lay blue with y nine again\n",
      "Prediction: la re t e ao\n",
      "~~~~~~~~~~~~~~~~~~~~~~~~~~~~~~~~~~~~~~~~~~~~~~~~~~~~~~~~~~~~~~~~~~~~~~~~~~~~~~~~~~~~~~~~~~~~~~~~~~~~\n",
      "200/200 [==============================] - 1254s 6s/step - loss: 58.5305 - lr: 6.7032e-04\n"
     ]
    },
    {
     "data": {
      "text/plain": [
       "<keras.callbacks.History at 0x793e6a7bb940>"
      ]
     },
     "execution_count": 117,
     "metadata": {},
     "output_type": "execute_result"
    }
   ],
   "source": [
    "model.fit(train_data, epochs=50, callbacks=[checkpoint_callback, schedule_callback,example_callback])"
   ]
  },
  {
   "cell_type": "code",
   "execution_count": 118,
   "id": "3740f171",
   "metadata": {
    "execution": {
     "iopub.execute_input": "2023-06-04T21:22:29.105029Z",
     "iopub.status.busy": "2023-06-04T21:22:29.104524Z",
     "iopub.status.idle": "2023-06-04T21:22:53.749652Z",
     "shell.execute_reply": "2023-06-04T21:22:53.748638Z",
     "shell.execute_reply.started": "2023-06-04T21:22:29.104995Z"
    }
   },
   "outputs": [],
   "source": [
    "import joblib  # For saving model\n",
    "model.save('model.joblib')"
   ]
  },
  {
   "cell_type": "code",
   "execution_count": null,
   "id": "1b82726e",
   "metadata": {},
   "outputs": [],
   "source": [
    "model.save('my_model.h5')\n"
   ]
  },
  {
   "cell_type": "markdown",
   "id": "a9613971",
   "metadata": {
    "id": "fa8ee94b-89f7-4733-8a0c-a86f86ff590a",
    "tags": []
   },
   "source": [
    "# 5. Make a Prediction "
   ]
  },
  {
   "cell_type": "code",
   "execution_count": null,
   "id": "4f3241fb",
   "metadata": {
    "id": "01fa7204-ce0e-49a8-8dbd-14fe5dfead40",
    "tags": []
   },
   "outputs": [],
   "source": [
    "# url = 'https://drive.google.com/uc?id=1vWscXs4Vt0a_1IH1-ct2TCgXAZT-N3_Y'\n",
    "# output = 'checkpoints.zip'\n",
    "# gdown.download(url, output, quiet=False)\n",
    "# gdown.extractall('checkpoints.zip', 'models')"
   ]
  },
  {
   "cell_type": "code",
   "execution_count": null,
   "id": "206352b4",
   "metadata": {
    "id": "247f664d-3c87-4e96-946e-930dad0e1c2c",
    "tags": []
   },
   "outputs": [],
   "source": [
    "# model.load_weights('models/checkpoint')"
   ]
  },
  {
   "cell_type": "code",
   "execution_count": 119,
   "id": "d7c59c39",
   "metadata": {
    "execution": {
     "iopub.execute_input": "2023-06-04T21:23:23.984469Z",
     "iopub.status.busy": "2023-06-04T21:23:23.983649Z",
     "iopub.status.idle": "2023-06-04T21:23:23.997608Z",
     "shell.execute_reply": "2023-06-04T21:23:23.996580Z",
     "shell.execute_reply.started": "2023-06-04T21:23:23.984429Z"
    },
    "id": "7f8d689f-b7bb-443c-9b88-e40c1d800828",
    "tags": []
   },
   "outputs": [],
   "source": [
    "test_data = test_data.as_numpy_iterator()"
   ]
  },
  {
   "cell_type": "code",
   "execution_count": 120,
   "id": "9cc8c94f",
   "metadata": {
    "execution": {
     "iopub.execute_input": "2023-06-04T21:23:25.705448Z",
     "iopub.status.busy": "2023-06-04T21:23:25.704229Z",
     "iopub.status.idle": "2023-06-04T21:23:31.415820Z",
     "shell.execute_reply": "2023-06-04T21:23:31.414701Z",
     "shell.execute_reply.started": "2023-06-04T21:23:25.705405Z"
    },
    "id": "38546dc2-bee9-4837-864b-8a884df40ad7",
    "tags": []
   },
   "outputs": [],
   "source": [
    "sample = test_data.next()"
   ]
  },
  {
   "cell_type": "code",
   "execution_count": 121,
   "id": "a76143f8",
   "metadata": {
    "execution": {
     "iopub.execute_input": "2023-06-04T21:23:33.552728Z",
     "iopub.status.busy": "2023-06-04T21:23:33.552233Z",
     "iopub.status.idle": "2023-06-04T21:23:33.960040Z",
     "shell.execute_reply": "2023-06-04T21:23:33.958922Z",
     "shell.execute_reply.started": "2023-06-04T21:23:33.552691Z"
    },
    "id": "a43621f0-229d-4c0d-9554-9c3a3da9c61a",
    "tags": []
   },
   "outputs": [
    {
     "name": "stdout",
     "output_type": "stream",
     "text": [
      "1/1 [==============================] - 0s 287ms/step\n"
     ]
    }
   ],
   "source": [
    "yhat = model.predict(sample[0])"
   ]
  },
  {
   "cell_type": "code",
   "execution_count": 122,
   "id": "e0c2b0c6",
   "metadata": {
    "execution": {
     "iopub.execute_input": "2023-06-04T21:23:35.886396Z",
     "iopub.status.busy": "2023-06-04T21:23:35.885921Z",
     "iopub.status.idle": "2023-06-04T21:23:36.185378Z",
     "shell.execute_reply": "2023-06-04T21:23:36.184102Z",
     "shell.execute_reply.started": "2023-06-04T21:23:35.886343Z"
    },
    "id": "ea462999-f87e-4a7e-a057-5be7b6d8f7d5",
    "tags": []
   },
   "outputs": [
    {
     "name": "stdout",
     "output_type": "stream",
     "text": [
      "~~~~~~~~~~~~~~~~~~~~~~~~~~~~~~~~~~~~~~~~~~~~~~~~~~~~~~~~~~~~~~~~~~~~~~~~~~~~~~~~~~~~~~~~~~~~~~~~~~~~ REAL TEXT\n"
     ]
    },
    {
     "data": {
      "text/plain": [
       "[<tf.Tensor: shape=(), dtype=string, numpy=b'bin white at a two please'>,\n",
       " <tf.Tensor: shape=(), dtype=string, numpy=b'lay white at l four please'>]"
      ]
     },
     "execution_count": 122,
     "metadata": {},
     "output_type": "execute_result"
    }
   ],
   "source": [
    "print('~'*100, 'REAL TEXT')\n",
    "[tf.strings.reduce_join([num_to_char(word) for word in sentence]) for sentence in sample[1]]"
   ]
  },
  {
   "cell_type": "code",
   "execution_count": 123,
   "id": "132020ac",
   "metadata": {
    "execution": {
     "iopub.execute_input": "2023-06-04T21:23:40.405461Z",
     "iopub.status.busy": "2023-06-04T21:23:40.405030Z",
     "iopub.status.idle": "2023-06-04T21:23:40.419498Z",
     "shell.execute_reply": "2023-06-04T21:23:40.418498Z",
     "shell.execute_reply.started": "2023-06-04T21:23:40.405424Z"
    },
    "id": "82bd4c10-dd6e-411e-834b-2a3b43fd12c5",
    "tags": []
   },
   "outputs": [],
   "source": [
    "decoded = tf.keras.backend.ctc_decode(yhat, input_length=[75,75], greedy=True)[0][0].numpy()"
   ]
  },
  {
   "cell_type": "code",
   "execution_count": 124,
   "id": "76baba60",
   "metadata": {
    "execution": {
     "iopub.execute_input": "2023-06-04T21:23:43.496415Z",
     "iopub.status.busy": "2023-06-04T21:23:43.495610Z",
     "iopub.status.idle": "2023-06-04T21:23:43.652599Z",
     "shell.execute_reply": "2023-06-04T21:23:43.651634Z",
     "shell.execute_reply.started": "2023-06-04T21:23:43.496359Z"
    },
    "id": "5d68ac46-c90b-4eab-a709-f19aee569ff5",
    "tags": []
   },
   "outputs": [
    {
     "name": "stdout",
     "output_type": "stream",
     "text": [
      "~~~~~~~~~~~~~~~~~~~~~~~~~~~~~~~~~~~~~~~~~~~~~~~~~~~~~~~~~~~~~~~~~~~~~~~~~~~~~~~~~~~~~~~~~~~~~~~~~~~~ PREDICTIONS\n"
     ]
    },
    {
     "data": {
      "text/plain": [
       "[<tf.Tensor: shape=(), dtype=string, numpy=b'la re e ao'>,\n",
       " <tf.Tensor: shape=(), dtype=string, numpy=b'la re e ao'>]"
      ]
     },
     "execution_count": 124,
     "metadata": {},
     "output_type": "execute_result"
    }
   ],
   "source": [
    "print('~'*100, 'PREDICTIONS')\n",
    "[tf.strings.reduce_join([num_to_char(word) for word in sentence]) for sentence in decoded]"
   ]
  },
  {
   "cell_type": "code",
   "execution_count": null,
   "id": "31d1d815",
   "metadata": {
    "id": "3XoeUaanyCjB"
   },
   "outputs": [],
   "source": []
  },
  {
   "cell_type": "code",
   "execution_count": null,
   "id": "eb1a807a",
   "metadata": {
    "id": "3AP_gm7_yCur"
   },
   "outputs": [],
   "source": []
  },
  {
   "cell_type": "code",
   "execution_count": null,
   "id": "23b6557e",
   "metadata": {
    "id": "hcHc7onByC_m"
   },
   "outputs": [],
   "source": []
  }
 ],
 "metadata": {
  "accelerator": "GPU",
  "colab": {
   "gpuType": "T4",
   "provenance": []
  },
  "kernelspec": {
   "display_name": "Python 3 (ipykernel)",
   "language": "python",
   "name": "python3"
  },
  "language_info": {
   "codemirror_mode": {
    "name": "ipython",
    "version": 3
   },
   "file_extension": ".py",
   "mimetype": "text/x-python",
   "name": "python",
   "nbconvert_exporter": "python",
   "pygments_lexer": "ipython3",
   "version": "3.9.7"
  }
 },
 "nbformat": 4,
 "nbformat_minor": 5
}
